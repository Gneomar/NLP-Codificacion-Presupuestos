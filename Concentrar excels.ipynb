{
 "cells": [
  {
   "cell_type": "code",
   "execution_count": null,
   "metadata": {},
   "outputs": [],
   "source": [
    "import os\n",
    "import pandas as pd\n",
    "import warnings\n",
    "import openpyxl\n",
    "warnings.filterwarnings(\"ignore\", category=UserWarning, module=\"openpyxl\")\n",
    "\n",
    "def get_files_names(folder_path):\n",
    "    files = os.listdir(folder_path)\n",
    "    files_path = []\n",
    "    for file in files:\n",
    "        file = os.path.join(folder_path, file)\n",
    "        files_path.append(file)\n",
    "    return files_path\n",
    "\n",
    "dir_actual = os.getcwd()\n",
    "folder_path = os.path.join(dir_actual, 'Backup')\n",
    "files = get_files_names(folder_path)\n"
   ]
  },
  {
   "cell_type": "code",
   "execution_count": null,
   "metadata": {},
   "outputs": [],
   "source": [
    "def get_dataset_NLP_V2(excel_path):\n",
    "    excels_errors = {}\n",
    "    try:\n",
    "        # Cargar el libro y verificar la hoja\n",
    "        libro = openpyxl.load_workbook(excel_path, data_only=True)\n",
    "        if \"004\" not in libro.sheetnames:\n",
    "            excels_errors[excel_path] = 'La hoja \"004\" no existe en el archivo Excel.'\n",
    "            return pd.DataFrame(), excels_errors\n",
    "        \n",
    "        hoja = libro[\"004\"]\n",
    "\n",
    "        # Buscar la fila que contiene \"descrip\"\n",
    "        start_row = None\n",
    "        for fila in hoja.iter_rows(min_row=1, max_row=15, min_col=1, max_col=5):\n",
    "            for celda in fila:\n",
    "                if celda.value and \"descrip\" in str(celda.value).lower():\n",
    "                    nombre_partida = celda.value\n",
    "                    start_row = celda.row\n",
    "                    break\n",
    "            if start_row:\n",
    "                break\n",
    "\n",
    "        if not start_row:\n",
    "            excels_errors[excel_path] = 'No se encontró ninguna celda con \"descrip\".'\n",
    "            return pd.DataFrame(), excels_errors\n",
    "\n",
    "        # Leer el DataFrame a partir de la fila encontrada\n",
    "        df = pd.read_excel(excel_path, sheet_name=\"004\", skiprows=start_row-1)\n",
    "\n",
    "        if \"Cod.\" not in df.columns:\n",
    "            excels_errors[excel_path] = 'No se encontró la columna \"Cod.\" en la hoja \"004\".'\n",
    "            return pd.DataFrame(), excels_errors\n",
    "\n",
    "        df = df.rename(columns={nombre_partida: 'Descripcion', \"Cod.\": \"Codigo\"})\n",
    "        df = df[[nombre_partida, \"Codigo\"]].dropna().reset_index(drop=True)\n",
    "        excels_errors[excel_path] = 'OK'\n",
    "        df['archivo'] = excel_path\n",
    "        return df, excels_errors\n",
    "\n",
    "    except Exception as e:\n",
    "        excels_errors[excel_path] = f'Error inesperado: {str(e)}'\n",
    "        return pd.DataFrame(), excels_errors\n"
   ]
  },
  {
   "cell_type": "code",
   "execution_count": null,
   "metadata": {},
   "outputs": [],
   "source": [
    "dfs = []\n",
    "errores = {}\n",
    "\n",
    "for file in files:\n",
    "    df, errores_temp = get_dataset_NLP_V2(file)\n",
    "    dfs.append(df)\n",
    "    errores.update(errores_temp)\n",
    "\n",
    "df_final = pd.concat(dfs, ignore_index=True)\n",
    "registro = pd.DataFrame(errores.items(), columns=['archivo', 'error'])\n"
   ]
  },
  {
   "cell_type": "code",
   "execution_count": null,
   "metadata": {},
   "outputs": [],
   "source": [
    "def export_excels_tabs(df, registro, path):\n",
    "    with pd.ExcelWriter(path, engine='openpyxl') as writer:\n",
    "        df.to_excel(writer, sheet_name='NLP', index=False)\n",
    "        registro.to_excel(writer, sheet_name='Registro', index=False)\n",
    "\n",
    "export_excels_tabs(df_final, registro, 'NLP_V2.xlsx')"
   ]
  }
 ],
 "metadata": {
  "kernelspec": {
   "display_name": "Python 3",
   "language": "python",
   "name": "python3"
  },
  "language_info": {
   "codemirror_mode": {
    "name": "ipython",
    "version": 3
   },
   "file_extension": ".py",
   "mimetype": "text/x-python",
   "name": "python",
   "nbconvert_exporter": "python",
   "pygments_lexer": "ipython3",
   "version": "3.12.2"
  }
 },
 "nbformat": 4,
 "nbformat_minor": 2
}
