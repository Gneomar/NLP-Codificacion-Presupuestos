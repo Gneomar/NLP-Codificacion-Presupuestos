{
 "cells": [
  {
   "cell_type": "code",
   "execution_count": null,
   "metadata": {},
   "outputs": [],
   "source": [
    "import pandas as pd\n",
    "import numpy as np\n",
    "import seaborn as sns\n",
    "import matplotlib.pyplot as plt\n",
    "import re\n",
    "from unidecode import unidecode\n",
    "\n",
    "df = pd.read_csv('Data/data.csv')\n",
    "df = df.drop(columns=['archivo'])"
   ]
  },
  {
   "cell_type": "code",
   "execution_count": null,
   "metadata": {},
   "outputs": [],
   "source": [
    "def normalize_str_col(df, col):\n",
    "    df[col] = df[col].apply(lambda x: unidecode(x) if isinstance(x, str) else x)\n",
    "    df[col] = df[col].str.lower()\n",
    "    df[col] = df[col].replace('|', np.nan)\n",
    "    df = df.dropna().copy()\n",
    "    df[col] = df[col].apply(lambda x: re.sub(r'\\b(de|la|el|y)\\b', '', x))  # Eliminar stop words comunes\n",
    "    df[col] = df[col].apply(lambda x: re.sub(r'[0-9\\.]', '', unidecode(x)) if isinstance(x, str) else x) # Eliminar números y puntos\n",
    "    df[col] = df[col].apply(lambda x: re.sub(r'\\s+', ' ', x).strip())  # Eliminar espacios extra\n",
    "    df[col] = df[col].replace('', np.nan)\n",
    "    df[col] = df[col].str.strip() # Eliminar espacios al principio y al final\n",
    "    df = df.dropna()\n",
    "    df = df.drop_duplicates()\n",
    "    df = df.reset_index(drop=True)\n",
    "    df = df.copy()\n",
    "    return df"
   ]
  },
  {
   "cell_type": "code",
   "execution_count": null,
   "metadata": {},
   "outputs": [],
   "source": [
    "data = normalize_str_col(df, 'Descripcion')\n",
    "data.shape"
   ]
  },
  {
   "cell_type": "code",
   "execution_count": null,
   "metadata": {},
   "outputs": [],
   "source": [
    "df_codes = pd.read_excel('Lista_codigos.xlsx')\n",
    "code_list = df_codes['Codigo'].tolist()\n",
    "\n",
    "filtro1 = data['Codigo'].isin(code_list)\n",
    "data = data[filtro1].copy()\n",
    "data = data.reset_index(drop=True)\n",
    "data.shape"
   ]
  },
  {
   "cell_type": "markdown",
   "metadata": {},
   "source": [
    "## Analizar Grupos"
   ]
  },
  {
   "cell_type": "code",
   "execution_count": null,
   "metadata": {},
   "outputs": [],
   "source": [
    "codes_groped = data.groupby(['Codigo']).agg({\n",
    "    'Descripcion': 'count'\n",
    "}).reset_index()\n",
    "codes_groped = codes_groped.rename(columns={'Descripcion': 'Cantidad'})\n",
    "codes_groped['Especialidad'] = codes_groped['Codigo'].map(df_codes.set_index('Codigo')['Especialidad'])\n",
    "codes_groped = codes_groped.sort_values(by='Cantidad', ascending=False)\n",
    "codes_groped"
   ]
  },
  {
   "cell_type": "code",
   "execution_count": null,
   "metadata": {},
   "outputs": [],
   "source": [
    "codes_groped.groupby('Especialidad').agg({\n",
    "    'Cantidad': 'sum'\n",
    "}).reset_index().sort_values(by='Cantidad', ascending=False)\n"
   ]
  },
  {
   "cell_type": "code",
   "execution_count": null,
   "metadata": {},
   "outputs": [],
   "source": [
    "black_list = ['ELEV', 'S-E', 'IEP', 'ISP', 'EQC']\n",
    "filtro2 = ~data['Codigo'].isin(black_list)\n",
    "data = data[filtro2].copy()\n",
    "data.shape"
   ]
  },
  {
   "cell_type": "code",
   "execution_count": null,
   "metadata": {},
   "outputs": [],
   "source": [
    "data['Especialidad'] = data['Codigo'].map(df_codes.set_index('Codigo')['Especialidad'])\n",
    "data = data.reset_index(drop=True)\n",
    "data.to_csv('Data/data_clean.csv', index=False)"
   ]
  },
  {
   "cell_type": "code",
   "execution_count": null,
   "metadata": {},
   "outputs": [],
   "source": [
    "import matplotlib.pyplot as plt\n",
    "plt.figure(figsize=(10, 6))\n",
    "data['Codigo'].value_counts().plot(kind='bar')\n",
    "plt.show()\n"
   ]
  }
 ],
 "metadata": {
  "kernelspec": {
   "display_name": "Python 3",
   "language": "python",
   "name": "python3"
  },
  "language_info": {
   "codemirror_mode": {
    "name": "ipython",
    "version": 3
   },
   "file_extension": ".py",
   "mimetype": "text/x-python",
   "name": "python",
   "nbconvert_exporter": "python",
   "pygments_lexer": "ipython3",
   "version": "3.12.2"
  }
 },
 "nbformat": 4,
 "nbformat_minor": 2
}
